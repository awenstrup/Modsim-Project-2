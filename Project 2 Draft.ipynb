{
 "cells": [
  {
   "cell_type": "markdown",
   "metadata": {},
   "source": [
    "# Project 2: How to Keep your Burrito Warm\n",
    "\n",
    "### First Draft\n",
    "\n",
    "Alex Wenstrup and Robin Graham-Hayes"
   ]
  },
  {
   "cell_type": "markdown",
   "metadata": {},
   "source": [
    "## Question\n",
    "\n",
    "Suppose you buy a chipotle burrito (or any other burrito) for takeout, and want it to be as warm as possible when you get home. If you lead a lonely life of luxury and have a vacant but heated passenger seat in your car, you may be inclined to turn on your heated seat and strap your burrito in for a toasty ride. If, however, you don't find yourself in that position, are you better off leaving your burrito in the cooler, but insulated seat next to you, or on your lap, which starts off warmer, but will be cooled by your bloodstream drawing the heat throughout your body?"
   ]
  },
  {
   "cell_type": "code",
   "execution_count": 2,
   "metadata": {},
   "outputs": [],
   "source": [
    "# Configure Jupyter so figures appear in the notebook\n",
    "%matplotlib inline\n",
    "\n",
    "# Configure Jupyter to display the assigned value after an assignment\n",
    "%config InteractiveShell.ast_node_interactivity='last_expr_or_assign'\n",
    "\n",
    "# import functions from the modsim.py module\n",
    "from modsim import *"
   ]
  },
  {
   "cell_type": "code",
   "execution_count": 5,
   "metadata": {},
   "outputs": [
    {
     "data": {
      "text/html": [
       "<div>\n",
       "<style scoped>\n",
       "    .dataframe tbody tr th:only-of-type {\n",
       "        vertical-align: middle;\n",
       "    }\n",
       "\n",
       "    .dataframe tbody tr th {\n",
       "        vertical-align: top;\n",
       "    }\n",
       "\n",
       "    .dataframe thead th {\n",
       "        text-align: right;\n",
       "    }\n",
       "</style>\n",
       "<table border=\"1\" class=\"dataframe\">\n",
       "  <thead>\n",
       "    <tr style=\"text-align: right;\">\n",
       "      <th></th>\n",
       "      <th>values</th>\n",
       "    </tr>\n",
       "  </thead>\n",
       "  <tbody>\n",
       "    <tr>\n",
       "      <th>tBurrito</th>\n",
       "      <td>50</td>\n",
       "    </tr>\n",
       "    <tr>\n",
       "      <th>tLap</th>\n",
       "      <td>34</td>\n",
       "    </tr>\n",
       "    <tr>\n",
       "      <th>tCushion</th>\n",
       "      <td>22</td>\n",
       "    </tr>\n",
       "  </tbody>\n",
       "</table>\n",
       "</div>"
      ],
      "text/plain": [
       "tBurrito    50\n",
       "tLap        34\n",
       "tCushion    22\n",
       "dtype: int64"
      ]
     },
     "execution_count": 5,
     "metadata": {},
     "output_type": "execute_result"
    }
   ],
   "source": [
    "tBurrito1=50 #above room temp\n",
    "tBurrito2=50\n",
    "tLap=34     #Source: https://hypertextbook.com/facts/2001/AbantyFarzana.shtml\n",
    "tCushion=22 #room temp\n",
    "\n",
    "state = State(tBurrito=tBurrito, #create state\n",
    "              tLap=tLap,\n",
    "              tCushion=tCushion,)"
   ]
  },
  {
   "cell_type": "code",
   "execution_count": 6,
   "metadata": {},
   "outputs": [
    {
     "data": {
      "text/html": [
       "<div>\n",
       "<style scoped>\n",
       "    .dataframe tbody tr th:only-of-type {\n",
       "        vertical-align: middle;\n",
       "    }\n",
       "\n",
       "    .dataframe tbody tr th {\n",
       "        vertical-align: top;\n",
       "    }\n",
       "\n",
       "    .dataframe thead th {\n",
       "        text-align: right;\n",
       "    }\n",
       "</style>\n",
       "<table border=\"1\" class=\"dataframe\">\n",
       "  <thead>\n",
       "    <tr style=\"text-align: right;\">\n",
       "      <th></th>\n",
       "      <th>values</th>\n",
       "    </tr>\n",
       "  </thead>\n",
       "  <tbody>\n",
       "    <tr>\n",
       "      <th>init</th>\n",
       "      <td>tBurrito    50\n",
       "tLap        34\n",
       "tCushion    22\n",
       "d...</td>\n",
       "    </tr>\n",
       "    <tr>\n",
       "      <th>k_tortilla</th>\n",
       "      <td>0.5</td>\n",
       "    </tr>\n",
       "    <tr>\n",
       "      <th>A</th>\n",
       "      <td>0.027</td>\n",
       "    </tr>\n",
       "    <tr>\n",
       "      <th>C_burrito</th>\n",
       "      <td>3</td>\n",
       "    </tr>\n",
       "    <tr>\n",
       "      <th>C_cushion</th>\n",
       "      <td>2</td>\n",
       "    </tr>\n",
       "  </tbody>\n",
       "</table>\n",
       "</div>"
      ],
      "text/plain": [
       "init          tBurrito    50\n",
       "tLap        34\n",
       "tCushion    22\n",
       "d...\n",
       "k_tortilla                                                  0.5\n",
       "A                                                         0.027\n",
       "C_burrito                                                     3\n",
       "C_cushion                                                     2\n",
       "dtype: object"
      ]
     },
     "execution_count": 6,
     "metadata": {},
     "output_type": "execute_result"
    }
   ],
   "source": [
    "system = System(init = state,\n",
    "               k_tortilla = 0.5,\n",
    "               A = 0.027, #Contact area of burrito and cooling surface\n",
    "               C_burrito = 3,\n",
    "               C_cushion = 2\n",
    "               )"
   ]
  },
  {
   "cell_type": "code",
   "execution_count": null,
   "metadata": {},
   "outputs": [],
   "source": [
    "def update_func(state, t system):\n",
    "    new_state = state\n",
    "    \n",
    "    energy_B1 = state.tBurrito1 * C_burrito\n",
    "    energy_dB1 = system.k_tortilla * system.A * (state.tBurrito1 - state.tCushion) / 0.001\n",
    "    energy_dCushion = -1 * energy_dB1\n",
    "    \n",
    "    dB1 = energy_dB1 / system.C_burrito\n",
    "    dCushion = energy_dCushion / system.C_cushion\n",
    "    \n",
    "    new_state.tBurrito1 += dB1\n",
    "    new_state.tCushion += dCushion\n",
    "    \n",
    "    return new_state"
   ]
  },
  {
   "cell_type": "markdown",
   "metadata": {},
   "source": [
    "#### Sources\n",
    "- https://hypertextbook.com/facts/2001/AbantyFarzana.shtml\n",
    "- https://www.sciencedirect.com/science/article/pii/S026087740600392X"
   ]
  },
  {
   "cell_type": "code",
   "execution_count": null,
   "metadata": {},
   "outputs": [],
   "source": []
  }
 ],
 "metadata": {
  "kernelspec": {
   "display_name": "Python 3",
   "language": "python",
   "name": "python3"
  },
  "language_info": {
   "codemirror_mode": {
    "name": "ipython",
    "version": 3
   },
   "file_extension": ".py",
   "mimetype": "text/x-python",
   "name": "python",
   "nbconvert_exporter": "python",
   "pygments_lexer": "ipython3",
   "version": "3.6.6"
  }
 },
 "nbformat": 4,
 "nbformat_minor": 2
}
