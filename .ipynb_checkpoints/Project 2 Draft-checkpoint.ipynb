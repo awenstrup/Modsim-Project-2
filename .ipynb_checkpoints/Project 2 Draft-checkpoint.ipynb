{
 "cells": [
  {
   "cell_type": "markdown",
   "metadata": {},
   "source": [
    "# Project 2: How to Keep your Burrito Warm\n",
    "\n",
    "### First Draft\n",
    "\n",
    "Alex Wenstrup and Robin Graham-Hayes"
   ]
  },
  {
   "cell_type": "markdown",
   "metadata": {},
   "source": [
    "## Question\n",
    "\n",
    "Suppose you buy a chipotle burrito (or any other burrito) for takeout, and want it to be as warm as possible when you get home. If you lead a lonely life of luxury and have a vacant but heated passenger seat in your car, you may be inclined to turn on your heated seat and strap your burrito in for a toasty ride. If, however, you don't find yourself in that position, are you better off leaving your burrito in the cooler, but insulated seat next to you, or on your lap, which starts off warmer, but will be cooled by your bloodstream drawing the heat throughout your body?"
   ]
  },
  {
   "cell_type": "code",
   "execution_count": 10,
   "metadata": {},
   "outputs": [],
   "source": [
    "# Configure Jupyter so figures appear in the notebook\n",
    "%matplotlib inline\n",
    "\n",
    "# Configure Jupyter to display the assigned value after an assignment\n",
    "%config InteractiveShell.ast_node_interactivity='last_expr_or_assign'\n",
    "\n",
    "# import functions from the modsim.py module\n",
    "from modsim import *"
   ]
  },
  {
   "cell_type": "code",
   "execution_count": 61,
   "metadata": {},
   "outputs": [
    {
     "data": {
      "text/html": [
       "<div>\n",
       "<style scoped>\n",
       "    .dataframe tbody tr th:only-of-type {\n",
       "        vertical-align: middle;\n",
       "    }\n",
       "\n",
       "    .dataframe tbody tr th {\n",
       "        vertical-align: top;\n",
       "    }\n",
       "\n",
       "    .dataframe thead th {\n",
       "        text-align: right;\n",
       "    }\n",
       "</style>\n",
       "<table border=\"1\" class=\"dataframe\">\n",
       "  <thead>\n",
       "    <tr style=\"text-align: right;\">\n",
       "      <th></th>\n",
       "      <th>values</th>\n",
       "    </tr>\n",
       "  </thead>\n",
       "  <tbody>\n",
       "    <tr>\n",
       "      <th>tBurritoCush</th>\n",
       "      <td>50</td>\n",
       "    </tr>\n",
       "    <tr>\n",
       "      <th>tBurritoLap</th>\n",
       "      <td>50</td>\n",
       "    </tr>\n",
       "    <tr>\n",
       "      <th>tLap</th>\n",
       "      <td>34</td>\n",
       "    </tr>\n",
       "    <tr>\n",
       "      <th>tCushion</th>\n",
       "      <td>22</td>\n",
       "    </tr>\n",
       "  </tbody>\n",
       "</table>\n",
       "</div>"
      ],
      "text/plain": [
       "tBurritoCush    50\n",
       "tBurritoLap     50\n",
       "tLap            34\n",
       "tCushion        22\n",
       "dtype: int64"
      ]
     },
     "execution_count": 61,
     "metadata": {},
     "output_type": "execute_result"
    }
   ],
   "source": [
    "tBurrito=50#above room temp\n",
    "tWall=50   #wall includes tortilla and foil\n",
    "tLap=34     #Source: https://hypertextbook.com/facts/2001/AbantyFarzana.shtml\n",
    "tCushion=22 #room temp\n",
    "\n",
    "state = State(tBurritoCush=tBurrito,\n",
    "              tBurritoLap=tBurrito,    #create state\n",
    "              tLap=tLap,\n",
    "              tCushion=tCushion,)"
   ]
  },
  {
   "cell_type": "code",
   "execution_count": 64,
   "metadata": {},
   "outputs": [
    {
     "data": {
      "text/html": [
       "<div>\n",
       "<style scoped>\n",
       "    .dataframe tbody tr th:only-of-type {\n",
       "        vertical-align: middle;\n",
       "    }\n",
       "\n",
       "    .dataframe tbody tr th {\n",
       "        vertical-align: top;\n",
       "    }\n",
       "\n",
       "    .dataframe thead th {\n",
       "        text-align: right;\n",
       "    }\n",
       "</style>\n",
       "<table border=\"1\" class=\"dataframe\">\n",
       "  <thead>\n",
       "    <tr style=\"text-align: right;\">\n",
       "      <th></th>\n",
       "      <th>values</th>\n",
       "    </tr>\n",
       "  </thead>\n",
       "  <tbody>\n",
       "    <tr>\n",
       "      <th>init</th>\n",
       "      <td>tBurritoCush    50\n",
       "tBurritoLap     50\n",
       "tLap    ...</td>\n",
       "    </tr>\n",
       "    <tr>\n",
       "      <th>k_tortilla</th>\n",
       "      <td>0.025</td>\n",
       "    </tr>\n",
       "    <tr>\n",
       "      <th>A</th>\n",
       "      <td>0.027</td>\n",
       "    </tr>\n",
       "    <tr>\n",
       "      <th>C_burrito</th>\n",
       "      <td>3</td>\n",
       "    </tr>\n",
       "    <tr>\n",
       "      <th>C_cushion</th>\n",
       "      <td>2</td>\n",
       "    </tr>\n",
       "  </tbody>\n",
       "</table>\n",
       "</div>"
      ],
      "text/plain": [
       "init          tBurritoCush    50\n",
       "tBurritoLap     50\n",
       "tLap    ...\n",
       "k_tortilla                                                0.025\n",
       "A                                                         0.027\n",
       "C_burrito                                                     3\n",
       "C_cushion                                                     2\n",
       "dtype: object"
      ]
     },
     "execution_count": 64,
     "metadata": {},
     "output_type": "execute_result"
    }
   ],
   "source": [
    "system = System(init = state,\n",
    "               k_tortilla = 2.5e-2, #W/(mK)\n",
    "               A = 0.027, #Contact area of burrito and cooling surface\n",
    "               C_burrito = 3, #J/(g*deC)\n",
    "               C_cushion = 2)"
   ]
  },
  {
   "cell_type": "code",
   "execution_count": 67,
   "metadata": {},
   "outputs": [
    {
     "data": {
      "text/html": [
       "<div>\n",
       "<style scoped>\n",
       "    .dataframe tbody tr th:only-of-type {\n",
       "        vertical-align: middle;\n",
       "    }\n",
       "\n",
       "    .dataframe tbody tr th {\n",
       "        vertical-align: top;\n",
       "    }\n",
       "\n",
       "    .dataframe thead th {\n",
       "        text-align: right;\n",
       "    }\n",
       "</style>\n",
       "<table border=\"1\" class=\"dataframe\">\n",
       "  <thead>\n",
       "    <tr style=\"text-align: right;\">\n",
       "      <th></th>\n",
       "      <th>values</th>\n",
       "    </tr>\n",
       "  </thead>\n",
       "  <tbody>\n",
       "    <tr>\n",
       "      <th>init</th>\n",
       "      <td>tBurritoCush    50\n",
       "tBurritoLap     50\n",
       "tWallCus...</td>\n",
       "    </tr>\n",
       "    <tr>\n",
       "      <th>k_burrito</th>\n",
       "      <td>0.1</td>\n",
       "    </tr>\n",
       "    <tr>\n",
       "      <th>k_cushion</th>\n",
       "      <td>0.05</td>\n",
       "    </tr>\n",
       "    <tr>\n",
       "      <th>A</th>\n",
       "      <td>0.027</td>\n",
       "    </tr>\n",
       "    <tr>\n",
       "      <th>C_burrito</th>\n",
       "      <td>3</td>\n",
       "    </tr>\n",
       "    <tr>\n",
       "      <th>C_cushion</th>\n",
       "      <td>2</td>\n",
       "    </tr>\n",
       "    <tr>\n",
       "      <th>C_wall</th>\n",
       "      <td>4</td>\n",
       "    </tr>\n",
       "  </tbody>\n",
       "</table>\n",
       "</div>"
      ],
      "text/plain": [
       "init         tBurritoCush    50\n",
       "tBurritoLap     50\n",
       "tWallCus...\n",
       "k_burrito                                                  0.1\n",
       "k_cushion                                                 0.05\n",
       "A                                                        0.027\n",
       "C_burrito                                                    3\n",
       "C_cushion                                                    2\n",
       "C_wall                                                       4\n",
       "dtype: object"
      ]
     },
     "execution_count": 67,
     "metadata": {},
     "output_type": "execute_result"
    }
   ],
   "source": [
    "state2 = State(tBurritoCush=tBurrito,\n",
    "              tBurritoLap=tBurrito,    #create state\n",
    "              tWallCush=tBurrito,\n",
    "              tWallLab=tBurrito,\n",
    "              tLap=tLap,\n",
    "              tCushion=tCushion)\n",
    "\n",
    "system2 = System(init = state2,\n",
    "               k_burrito = 0.1, #W/(mK)\n",
    "               k_cushion = 0.05,\n",
    "               A = 0.027, #Contact area of burrito and cooling surface\n",
    "               C_burrito = 3, #J/(g*deC)\n",
    "               C_cushion = 2,\n",
    "               C_wall = 4)"
   ]
  },
  {
   "cell_type": "code",
   "execution_count": 68,
   "metadata": {},
   "outputs": [],
   "source": [
    "def update_Cush(state, t, system):\n",
    "    new_state = state\n",
    "    \n",
    "    energy_B1 = state.tBurritoCush * system.C_burrito\n",
    "    energy_dB1 = system.k_tortilla * system.A * (state.tCushion - state.tWallCush ) / 0.023\n",
    "    energy_dCushion = -1 * energy_dB1\n",
    "    \n",
    "    dB1 = energy_dB1 / system.C_burrito\n",
    "    dCushion = energy_dCushion / system.C_cushion\n",
    "    \n",
    "    new_state.tBurritoCush += dB1\n",
    "    new_state.tCushion += dCushion\n",
    "    \n",
    "    return new_state"
   ]
  },
  {
   "cell_type": "code",
   "execution_count": 81,
   "metadata": {},
   "outputs": [],
   "source": [
    "def update_Cush2(state, t, system):\n",
    "    new_state = state\n",
    "    \n",
    "    energy_B1 = state.tBurritoCush * system.C_burrito\n",
    "    energy_dB1 = system.k_burrito * system.A * (state.tWallCush - state.tBurritoCush ) / 0.023\n",
    "    energy_dWall = -1 * energy_dB1\n",
    "    \n",
    "    energy_W1 = state.tBurritoCush * system.C_wall\n",
    "    energy_dW1 = system.k_cushion * system.A * (state.tCushion - state.tWallCush ) / 0.03\n",
    "    energy_dCushion = -1 * energy_dW1\n",
    "    \n",
    "    dB1 = energy_dB1 / system.C_burrito\n",
    "    dCushion = energy_dCushion / system.C_cushion\n",
    "    dW1 = energy_dWall / system.C_wall\n",
    "    \n",
    "    new_state.tBurritoCush += dB1\n",
    "    new_state.tCushion += dCushion\n",
    "    new_state.tWallCush += dW1\n",
    "    \n",
    "    return new_state"
   ]
  },
  {
   "cell_type": "code",
   "execution_count": 82,
   "metadata": {},
   "outputs": [],
   "source": [
    "def run_sim(system,t,update_func):\n",
    "    \n",
    "    frame = TimeFrame(columns=system.init.index)\n",
    "    frame.row[0] = system.init\n",
    "    \n",
    "    for i in linrange(0, t):\n",
    "        frame.row[i+1] = update_func(frame.row[i], i, system)\n",
    "    \n",
    "    return frame\n",
    "        "
   ]
  },
  {
   "cell_type": "code",
   "execution_count": 83,
   "metadata": {},
   "outputs": [
    {
     "data": {
      "text/plain": [
       "<matplotlib.axes._subplots.AxesSubplot at 0x209a75fb278>"
      ]
     },
     "execution_count": 83,
     "metadata": {},
     "output_type": "execute_result"
    },
    {
     "data": {
      "image/png": "[encoded data removed]",
      "text/plain": [
       "<Figure size 432x288 with 1 Axes>"
      ]
     },
     "metadata": {},
     "output_type": "display_data"
    }
   ],
   "source": [
    "res = run_sim(system2,600,update_Cush2);\n",
    "res.plot()"
   ]
  },
  {
   "cell_type": "markdown",
   "metadata": {},
   "source": [
    "#### Sources\n",
    "- https://hypertextbook.com/facts/2001/AbantyFarzana.shtml\n",
    "- https://www.sciencedirect.com/science/article/pii/S026087740600392X"
   ]
  },
  {
   "cell_type": "code",
   "execution_count": null,
   "metadata": {},
   "outputs": [],
   "source": []
  }
 ],
 "metadata": {
  "kernelspec": {
   "display_name": "Python 3",
   "language": "python",
   "name": "python3"
  },
  "language_info": {
   "codemirror_mode": {
    "name": "ipython",
    "version": 3
   },
   "file_extension": ".py",
   "mimetype": "text/x-python",
   "name": "python",
   "nbconvert_exporter": "python",
   "pygments_lexer": "ipython3",
   "version": "3.6.6"
  }
 },
 "nbformat": 4,
 "nbformat_minor": 2
}
